{
 "cells": [
  {
   "attachments": {},
   "cell_type": "markdown",
   "metadata": {},
   "source": [
    "\n",
    "Import the dependencies\n"
   ]
  },
  {
   "cell_type": "code",
   "execution_count": null,
   "metadata": {
    "tags": []
   },
   "outputs": [],
   "source": [
    "#libraries\n",
    "import numpy as np\n",
    "import pandas as pd\n",
    "from sklearn.model_selection import train_test_split\n",
    "from sklearn.preprocessing import  StandardScaler\n",
    "import matplotlib.pyplot as plt\n",
    "import seaborn as sns\n"
   ]
  },
  {
   "cell_type": "code",
   "execution_count": null,
   "metadata": {},
   "outputs": [],
   "source": [
    "#load the used dataset\n",
    "data_frame = pd.read_csv('data.csv')\n"
   ]
  },
  {
   "cell_type": "code",
   "execution_count": null,
   "metadata": {},
   "outputs": [],
   "source": [
    "# display (rows,columns)\n",
    "data_frame.shape"
   ]
  },
  {
   "cell_type": "code",
   "execution_count": null,
   "metadata": {},
   "outputs": [],
   "source": [
    "# show dataset info\n",
    "data_frame.info()\n"
   ]
  },
  {
   "attachments": {},
   "cell_type": "markdown",
   "metadata": {},
   "source": [
    "Drop the unnecessary columns and rows"
   ]
  },
  {
   "cell_type": "code",
   "execution_count": null,
   "metadata": {},
   "outputs": [],
   "source": [
    "#drop the unneeded columns\n",
    "#we will remove the 'Patient_Number' column \n",
    "#we will remove the 'pregnancy' column bec. it consist of 1558 nulls and its not that important\n",
    "#but we wont remove 'Genetic_Pedigree_Coefficient' and 'alcohol_consumption_per_day' columns bec. they are a main factor in the blood pressure disease\n",
    "data_frame = data_frame.drop(['Patient_Number', 'Pregnancy'], axis=1 )\n",
    "data_frame.shape"
   ]
  },
  {
   "cell_type": "code",
   "execution_count": null,
   "metadata": {},
   "outputs": [],
   "source": [
    "data_frame.isna().sum()"
   ]
  },
  {
   "cell_type": "code",
   "execution_count": null,
   "metadata": {},
   "outputs": [],
   "source": [
    "#Drop the rows that contain null values\n",
    "data_frame = data_frame.dropna()\n",
    "data_frame.shape"
   ]
  },
  {
   "cell_type": "code",
   "execution_count": null,
   "metadata": {},
   "outputs": [],
   "source": [
    "data_frame.isnull().sum()"
   ]
  },
  {
   "attachments": {},
   "cell_type": "markdown",
   "metadata": {},
   "source": [
    "outliers detection"
   ]
  },
  {
   "cell_type": "code",
   "execution_count": null,
   "metadata": {},
   "outputs": [],
   "source": [
    "#investigating the datatypes of the columns content \n",
    "data_frame.dtypes\n"
   ]
  },
  {
   "cell_type": "code",
   "execution_count": null,
   "metadata": {},
   "outputs": [],
   "source": [
    "data_frame.describe()"
   ]
  },
  {
   "cell_type": "code",
   "execution_count": null,
   "metadata": {},
   "outputs": [],
   "source": [
    "#The dataset contain no outliers as the mean is in between the min and max values of the columns \n",
    "## Remove outliers\n",
    "#df = df[(df['column1'] > 0) & (df['column1'] < 100)]"
   ]
  },
  {
   "attachments": {},
   "cell_type": "markdown",
   "metadata": {},
   "source": [
    "Feature(input) scaling\n",
    "Data normalization"
   ]
  },
  {
   "cell_type": "code",
   "execution_count": null,
   "metadata": {},
   "outputs": [],
   "source": [
    "# Since the range of values of raw data varies widely\n",
    "# Normalize the range of independent variables or features of data \n",
    "# feature scaling can be done by Standardization or normalization\n",
    "\n",
    "# dataset before feature scaling:\n",
    "data_frame.head()"
   ]
  },
  {
   "cell_type": "code",
   "execution_count": null,
   "metadata": {},
   "outputs": [],
   "source": [
    "data_input = data_frame.drop(columns=['Blood_Pressure_Abnormality'])\n",
    "data_output = data_frame['Blood_Pressure_Abnormality']"
   ]
  },
  {
   "cell_type": "code",
   "execution_count": null,
   "metadata": {},
   "outputs": [],
   "source": [
    "#from sklearn.model_selection import train_test_split\n",
    "\n",
    "X , X_test , y , y_test =train_test_split(\n",
    "    data_input , data_output , test_size=0.33 , random_state=0\n",
    ")\n",
    "\n",
    "X_train ,X_val ,y_train , y_val =train_test_split (\n",
    "    data_input ,data_output ,test_size=0.33 ,random_state=0 \n",
    ")"
   ]
  },
  {
   "cell_type": "code",
   "execution_count": null,
   "metadata": {},
   "outputs": [],
   "source": [
    "print(X_train.shape)\n",
    "print(y_train.shape)\n",
    "print('---------------')\n",
    "print(X_val.shape)\n",
    "print(y_val.shape)\n",
    "print('---------------')\n",
    "print(X_test.shape)\n",
    "print(y_test.shape)\n",
    "print('---------------')\n",
    "\n",
    "#(no. of samples , no. of inputs )\n",
    "#(no. of samples , no. of outputs )"
   ]
  },
  {
   "cell_type": "code",
   "execution_count": null,
   "metadata": {},
   "outputs": [],
   "source": [
    "# Standardization --> StandardScaler\n",
    "# from sklearn.preprocessing import  StandardScaler\n",
    "\n",
    "\n",
    "# Normalization  --> MinMaxScaler\n",
    "# from sklearn.preprocessing import  MinMaxScaler\n",
    "\n",
    "# we will use Standardization \n",
    "\n",
    "scaler=StandardScaler()\n",
    "#scaler=MinMaxScaler()   \n",
    "scaler.fit(X_train)\n",
    "\n",
    "X_train_scaled = scaler.transform(X_train)\n",
    "X_val_scaled = scaler.transform(X_val)\n",
    "X_test_scaled = scaler.transform(X_test)"
   ]
  },
  {
   "cell_type": "code",
   "execution_count": null,
   "metadata": {},
   "outputs": [],
   "source": [
    "\n",
    "X_train_scaled[:5]"
   ]
  },
  {
   "cell_type": "code",
   "execution_count": null,
   "metadata": {},
   "outputs": [],
   "source": [
    "# its not necessary to covert X_train_scaled(which is a numpy array) to a data frame but to make it more organized \n",
    "X_train_scaled=pd.DataFrame(X_train_scaled,columns=X_train.columns)\n",
    "X_val_scaled=pd.DataFrame(X_val_scaled,columns=X_val.columns)\n",
    "X_test_scaled=pd.DataFrame(X_test_scaled,columns=X_test.columns)"
   ]
  },
  {
   "cell_type": "code",
   "execution_count": null,
   "metadata": {},
   "outputs": [],
   "source": [
    "X_train_scaled.head()\n",
    "data_frame"
   ]
  },
  {
   "cell_type": "code",
   "execution_count": null,
   "metadata": {},
   "outputs": [],
   "source": [
    "data_frame.plot()\n"
   ]
  },
  {
   "cell_type": "code",
   "execution_count": null,
   "metadata": {},
   "outputs": [],
   "source": [
    "\n",
    "Population_mean = data_frame.mean() #Mean of population\n",
    "print(\"Population Mean : \", Population_mean)\n",
    "\n",
    "Population_median = data_frame.median()\n",
    "print(\"Population median : \", Population_median)\n",
    "\n",
    "Population_std = data_frame.std()  #Range\n",
    "print(\"Population standard dev : \", Population_std)\n",
    "\n",
    "population_var = data_frame.var()\n",
    "print(\"Population var : \", population_var)\n",
    "\n",
    "# Inter Quartile Range of Population\n",
    "population_IQR = data_frame.describe()['75%'] - data_frame.Population.describe()['25%']"
   ]
  },
  {
   "cell_type": "code",
   "execution_count": null,
   "metadata": {},
   "outputs": [],
   "source": [
    "abnormalBoxPlot=data_frame[data_frame['Blood_Pressure_Abnormality']==1]\n",
    "plt.boxplot(data_filtered['Age'],vert=False)\n"
   ]
  },
  {
   "cell_type": "code",
   "execution_count": null,
   "metadata": {},
   "outputs": [],
   "source": [
    "normalBoxPlot=data_frame[data_frame['Blood_Pressure_Abnormality']==0]\n",
    "plt.boxplot(data_filtered['Age'],vert=False)\n",
    "plt.title(\"BoxPlot for Ages with normal blood pressure\")"
   ]
  },
  {
   "cell_type": "code",
   "execution_count": null,
   "metadata": {},
   "outputs": [],
   "source": [
    "data_frame.Blood_Pressure_Abnormality.value_counts().plot(kind='bar',color=['orchid','salmon'])\n",
    "plt.title(\"blood pressure prediction\")\n",
    "plt.xlabel(\"1 = abnormal,0 = normal\")\n",
    "plt.ylabel(\"Amount\")"
   ]
  },
  {
   "cell_type": "code",
   "execution_count": null,
   "metadata": {},
   "outputs": [],
   "source": [
    "sns.countplot(x='Blood_Pressure_Abnormality',data=data_frame,hue='Sex')\n"
   ]
  },
  {
   "cell_type": "code",
   "execution_count": null,
   "metadata": {},
   "outputs": [],
   "source": [
    "# smokers = data_frame[data_frame['Smoking']==1] \n",
    "abnormalPatients = data_frame[data_frame['Blood_Pressure_Abnormality']==1]\n",
    "sexGroups = abnormalPatients.groupby('Adrenal_and_thyroid_disorders')\n",
    "labs = 'No disorders','Diorders Exist'\n",
    "sexGroups.size().plot(kind = 'pie',autopct = '%.2f',labels = labs)\n",
    "plt.title(\"Relation between Adrenal & Thyroid Disorders and Abnormal blood pressure\")\n",
    "\n"
   ]
  },
  {
   "cell_type": "code",
   "execution_count": null,
   "metadata": {},
   "outputs": [],
   "source": [
    "columnd = data_frame['Blood_Pressure_Abnormality']\n",
    "normal = data_frame == 1\n",
    "normal\n",
    "columnd\n",
    "data_frame.plot.bar(x = 'Level_of_Stress', stacked = True,title = 'dfaf ')"
   ]
  }
 ],
 "metadata": {
  "kernelspec": {
   "display_name": "Python 3",
   "language": "python",
   "name": "python3"
  },
  "language_info": {
   "codemirror_mode": {
    "name": "ipython",
    "version": 3
   },
   "file_extension": ".py",
   "mimetype": "text/x-python",
   "name": "python",
   "nbconvert_exporter": "python",
   "pygments_lexer": "ipython3",
   "version": "3.11.3"
  },
  "orig_nbformat": 4
 },
 "nbformat": 4,
 "nbformat_minor": 2
}
